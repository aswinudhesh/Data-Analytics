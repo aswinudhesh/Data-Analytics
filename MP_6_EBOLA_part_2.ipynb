{
  "nbformat": 4,
  "nbformat_minor": 0,
  "metadata": {
    "colab": {
      "provenance": [],
      "authorship_tag": "ABX9TyNPXjMuJoM5y0RFrUr/9rKx",
      "include_colab_link": true
    },
    "kernelspec": {
      "name": "python3",
      "display_name": "Python 3"
    },
    "language_info": {
      "name": "python"
    }
  },
  "cells": [
    {
      "cell_type": "markdown",
      "metadata": {
        "id": "view-in-github",
        "colab_type": "text"
      },
      "source": [
        "<a href=\"https://colab.research.google.com/github/aswinudhesh/Data-Analytics/blob/main/MP_6_EBOLA_part_2.ipynb\" target=\"_parent\"><img src=\"https://colab.research.google.com/assets/colab-badge.svg\" alt=\"Open In Colab\"/></a>"
      ]
    },
    {
      "cell_type": "markdown",
      "source": [
        "PART II"
      ],
      "metadata": {
        "id": "QHT37eVyKPN4"
      }
    },
    {
      "cell_type": "code",
      "execution_count": 1,
      "metadata": {
        "colab": {
          "base_uri": "https://localhost:8080/"
        },
        "id": "x6UFtcsIH-Tt",
        "outputId": "b85fcad8-398e-4fec-bdbc-cda99f731aa3"
      },
      "outputs": [
        {
          "output_type": "stream",
          "name": "stdout",
          "text": [
            "+----+--------------+--------+--------+\n",
            "|    | song_title   |   rank |   year |\n",
            "|----+--------------+--------+--------|\n",
            "|  0 | Mysong1      |      1 |   2012 |\n",
            "|  1 | Mysong1      |      1 |   2013 |\n",
            "|  2 | Mysong1      |      2 |   2014 |\n",
            "|  3 | Mysong1      |      3 |   2015 |\n",
            "|  4 | Mysong2      |      2 |   2012 |\n",
            "|  5 | Mysong2      |      2 |   2013 |\n",
            "|  6 | Mysong2      |      1 |   2014 |\n",
            "|  7 | Mysong2      |      2 |   2015 |\n",
            "|  8 | Mysong3      |      3 |   2012 |\n",
            "|  9 | Mysong3      |      3 |   2013 |\n",
            "+----+--------------+--------+--------+\n"
          ]
        }
      ],
      "source": [
        "import pandas as pd\n",
        "from tabulate import tabulate\n",
        "\n",
        "df1 = pd.read_csv('/content/song.csv')\n",
        "print(tabulate(df1, headers='keys', tablefmt='psql'))"
      ]
    },
    {
      "cell_type": "code",
      "source": [
        "print(df1.columns)"
      ],
      "metadata": {
        "colab": {
          "base_uri": "https://localhost:8080/"
        },
        "id": "WqUOjUUOI3nO",
        "outputId": "58edaf1f-15b7-4aad-f02f-1ca465a3a4a4"
      },
      "execution_count": 2,
      "outputs": [
        {
          "output_type": "stream",
          "name": "stdout",
          "text": [
            "Index(['song_title', 'rank', 'year'], dtype='object')\n"
          ]
        }
      ]
    },
    {
      "cell_type": "markdown",
      "source": [
        "1) Read \"song.csv\" into a dataframe and then produce the following output. Write Output For Ranked Songs By its Highest Frequency.\n",
        "\n",
        "\n",
        "*Whichever song won a particular rank (say 2) with maximum frequency takes that place. For example, Mysong1 won rank 1 for two different years (achieved maximum frequency for that particular rank) and so in output (see row 1 in Output expected below), it should appear as Mysong1 with rank 1 and count 2.. (Note. in the same year, now two songs have same rank.) *"
      ],
      "metadata": {
        "id": "wuSDW-gsJ3u5"
      }
    },
    {
      "cell_type": "code",
      "source": [
        "rank_counts = df1.groupby(['song_title', 'rank']).size().reset_index(name='Count')\n",
        "max_rank_counts = rank_counts.loc[rank_counts.groupby('rank')['Count'].idxmax()]\n",
        "print(tabulate(max_rank_counts, headers='keys', tablefmt='psql'))"
      ],
      "metadata": {
        "colab": {
          "base_uri": "https://localhost:8080/"
        },
        "id": "1k2rqwIUI8sL",
        "outputId": "c31adc6a-1668-47da-f984-5c652fdc0b3c"
      },
      "execution_count": 3,
      "outputs": [
        {
          "output_type": "stream",
          "name": "stdout",
          "text": [
            "+----+--------------+--------+---------+\n",
            "|    | song_title   |   rank |   Count |\n",
            "|----+--------------+--------+---------|\n",
            "|  0 | Mysong1      |      1 |       2 |\n",
            "|  4 | Mysong2      |      2 |       3 |\n",
            "|  5 | Mysong3      |      3 |       2 |\n",
            "+----+--------------+--------+---------+\n"
          ]
        }
      ]
    },
    {
      "cell_type": "markdown",
      "source": [
        "2)House Price Prediction task\n",
        "\n",
        "\n",
        "Pre-processing: Convert non-numeric columns (mainroad, guestroom, basement, hotwaterheating, airconditioning) to numeric using one-hot encoding if the column values are not interrelated. If column values are related, need to use ordinal encoding."
      ],
      "metadata": {
        "id": "h9G3fEbpJ6EG"
      }
    },
    {
      "cell_type": "code",
      "source": [
        "df = pd.read_csv('/content/Housing.csv')\n",
        "print(tabulate(df.head(10), headers='keys', tablefmt='psql'))\n",
        "categorical_cols = ['mainroad', 'guestroom', 'basement', 'hotwaterheating', 'airconditioning']\n",
        "df = pd.get_dummies(df, columns=categorical_cols, drop_first=True)"
      ],
      "metadata": {
        "colab": {
          "base_uri": "https://localhost:8080/"
        },
        "id": "g8DTzFePJDgB",
        "outputId": "b9d5dd01-4d24-4f82-c7bf-173c3f6bd7af"
      },
      "execution_count": 5,
      "outputs": [
        {
          "output_type": "stream",
          "name": "stdout",
          "text": [
            "+----+----------+--------+------------+-------------+-----------+------------+-------------+------------+-------------------+-------------------+-----------+------------+--------------------+\n",
            "|    |    price |   area |   bedrooms |   bathrooms |   stories | mainroad   | guestroom   | basement   | hotwaterheating   | airconditioning   |   parking | prefarea   | furnishingstatus   |\n",
            "|----+----------+--------+------------+-------------+-----------+------------+-------------+------------+-------------------+-------------------+-----------+------------+--------------------|\n",
            "|  0 | 13300000 |   7420 |          4 |           2 |         3 | yes        | no          | no         | no                | yes               |         2 | yes        | furnished          |\n",
            "|  1 | 12250000 |   8960 |          4 |           4 |         4 | yes        | no          | no         | no                | yes               |         3 | no         | furnished          |\n",
            "|  2 | 12250000 |   9960 |          3 |           2 |         2 | yes        | no          | yes        | no                | no                |         2 | yes        | semi-furnished     |\n",
            "|  3 | 12215000 |   7500 |          4 |           2 |         2 | yes        | no          | yes        | no                | yes               |         3 | yes        | furnished          |\n",
            "|  4 | 11410000 |   7420 |          4 |           1 |         2 | yes        | yes         | yes        | no                | yes               |         2 | no         | furnished          |\n",
            "|  5 | 10850000 |   7500 |          3 |           3 |         1 | yes        | no          | yes        | no                | yes               |         2 | yes        | semi-furnished     |\n",
            "|  6 | 10150000 |   8580 |          4 |           3 |         4 | yes        | no          | no         | no                | yes               |         2 | yes        | semi-furnished     |\n",
            "|  7 | 10150000 |  16200 |          5 |           3 |         2 | yes        | no          | no         | no                | no                |         0 | no         | unfurnished        |\n",
            "|  8 |  9870000 |   8100 |          4 |           1 |         2 | yes        | yes         | yes        | no                | yes               |         2 | yes        | furnished          |\n",
            "|  9 |  9800000 |   5750 |          3 |           2 |         4 | yes        | yes         | no         | no                | yes               |         1 | yes        | unfurnished        |\n",
            "+----+----------+--------+------------+-------------+-----------+------------+-------------+------------+-------------------+-------------------+-----------+------------+--------------------+\n"
          ]
        }
      ]
    },
    {
      "cell_type": "markdown",
      "source": [
        "3) Create three equal-size buckets of House Price data. Bin the data into 3 quantiles (new column: quantile) of 'low', 'medium', 'high' based on \"price\" column in the House Price dataset."
      ],
      "metadata": {
        "id": "abavJQDXKBgD"
      }
    },
    {
      "cell_type": "code",
      "source": [
        "df['quantile'] = pd.qcut(df['price'], q=3, labels=['low', 'medium', 'high'])\n",
        "print(tabulate(df.head(10), headers='keys', tablefmt='psql'))"
      ],
      "metadata": {
        "colab": {
          "base_uri": "https://localhost:8080/"
        },
        "id": "E2uxlHXXJL5H",
        "outputId": "1cb19dd0-ea54-4247-92c6-30f08d921006"
      },
      "execution_count": 6,
      "outputs": [
        {
          "output_type": "stream",
          "name": "stdout",
          "text": [
            "+----+----------+--------+------------+-------------+-----------+-----------+------------+--------------------+----------------+-----------------+----------------+-----------------------+-----------------------+------------+\n",
            "|    |    price |   area |   bedrooms |   bathrooms |   stories |   parking | prefarea   | furnishingstatus   | mainroad_yes   | guestroom_yes   | basement_yes   | hotwaterheating_yes   | airconditioning_yes   | quantile   |\n",
            "|----+----------+--------+------------+-------------+-----------+-----------+------------+--------------------+----------------+-----------------+----------------+-----------------------+-----------------------+------------|\n",
            "|  0 | 13300000 |   7420 |          4 |           2 |         3 |         2 | yes        | furnished          | True           | False           | False          | False                 | True                  | high       |\n",
            "|  1 | 12250000 |   8960 |          4 |           4 |         4 |         3 | no         | furnished          | True           | False           | False          | False                 | True                  | high       |\n",
            "|  2 | 12250000 |   9960 |          3 |           2 |         2 |         2 | yes        | semi-furnished     | True           | False           | True           | False                 | False                 | high       |\n",
            "|  3 | 12215000 |   7500 |          4 |           2 |         2 |         3 | yes        | furnished          | True           | False           | True           | False                 | True                  | high       |\n",
            "|  4 | 11410000 |   7420 |          4 |           1 |         2 |         2 | no         | furnished          | True           | True            | True           | False                 | True                  | high       |\n",
            "|  5 | 10850000 |   7500 |          3 |           3 |         1 |         2 | yes        | semi-furnished     | True           | False           | True           | False                 | True                  | high       |\n",
            "|  6 | 10150000 |   8580 |          4 |           3 |         4 |         2 | yes        | semi-furnished     | True           | False           | False          | False                 | True                  | high       |\n",
            "|  7 | 10150000 |  16200 |          5 |           3 |         2 |         0 | no         | unfurnished        | True           | False           | False          | False                 | False                 | high       |\n",
            "|  8 |  9870000 |   8100 |          4 |           1 |         2 |         2 | yes        | furnished          | True           | True            | True           | False                 | True                  | high       |\n",
            "|  9 |  9800000 |   5750 |          3 |           2 |         4 |         1 | yes        | unfurnished        | True           | True            | False          | False                 | True                  | high       |\n",
            "+----+----------+--------+------------+-------------+-----------+-----------+------------+--------------------+----------------+-----------------+----------------+-----------------------+-----------------------+------------+\n"
          ]
        }
      ]
    },
    {
      "cell_type": "code",
      "source": [],
      "metadata": {
        "id": "fM7-70x6Jwny"
      },
      "execution_count": null,
      "outputs": []
    }
  ]
}