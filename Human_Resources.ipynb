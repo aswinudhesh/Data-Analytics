{
  "nbformat": 4,
  "nbformat_minor": 0,
  "metadata": {
    "colab": {
      "provenance": [],
      "authorship_tag": "ABX9TyOuCyHUgchTMmYUL/to+Eb+",
      "include_colab_link": true
    },
    "kernelspec": {
      "name": "python3",
      "display_name": "Python 3"
    },
    "language_info": {
      "name": "python"
    }
  },
  "cells": [
    {
      "cell_type": "markdown",
      "metadata": {
        "id": "view-in-github",
        "colab_type": "text"
      },
      "source": [
        "<a href=\"https://colab.research.google.com/github/aswinudhesh/Data-Analytics/blob/main/Human_Resources.ipynb\" target=\"_parent\"><img src=\"https://colab.research.google.com/assets/colab-badge.svg\" alt=\"Open In Colab\"/></a>"
      ]
    },
    {
      "cell_type": "code",
      "execution_count": null,
      "metadata": {
        "id": "A7L2tvF868A9"
      },
      "outputs": [],
      "source": [
        "import pandas as pd\n",
        "from tabulate import tabulate\n",
        "import numpy as np\n",
        "import warnings\n",
        "import matplotlib.pyplot as plt\n",
        "import seaborn as sns"
      ]
    },
    {
      "cell_type": "code",
      "source": [
        "import pandas as pd\n",
        "df = pd.read_csv(\"/content/HR_comma_sep.csv\")\n",
        "df.head(5)"
      ],
      "metadata": {
        "colab": {
          "base_uri": "https://localhost:8080/",
          "height": 226
        },
        "id": "9dNeYo_k7TuS",
        "outputId": "2c1cb65b-8a4e-4b0d-8bd7-59a93c878013"
      },
      "execution_count": null,
      "outputs": [
        {
          "output_type": "execute_result",
          "data": {
            "text/plain": [
              "   satisfaction_level  last_evaluation  number_project  average_montly_hours  \\\n",
              "0                0.38             0.53               2                   157   \n",
              "1                0.80             0.86               5                   262   \n",
              "2                0.11             0.88               7                   272   \n",
              "3                0.72             0.87               5                   223   \n",
              "4                0.37             0.52               2                   159   \n",
              "\n",
              "   time_spend_company  Work_accident  left  promotion_last_5years  sales  \\\n",
              "0                   3              0     1                      0  sales   \n",
              "1                   6              0     1                      0  sales   \n",
              "2                   4              0     1                      0  sales   \n",
              "3                   5              0     1                      0  sales   \n",
              "4                   3              0     1                      0  sales   \n",
              "\n",
              "   salary  \n",
              "0     low  \n",
              "1  medium  \n",
              "2  medium  \n",
              "3     low  \n",
              "4     low  "
            ],
            "text/html": [
              "\n",
              "  <div id=\"df-84aa9243-383f-4a16-a79d-2a343cacb041\" class=\"colab-df-container\">\n",
              "    <div>\n",
              "<style scoped>\n",
              "    .dataframe tbody tr th:only-of-type {\n",
              "        vertical-align: middle;\n",
              "    }\n",
              "\n",
              "    .dataframe tbody tr th {\n",
              "        vertical-align: top;\n",
              "    }\n",
              "\n",
              "    .dataframe thead th {\n",
              "        text-align: right;\n",
              "    }\n",
              "</style>\n",
              "<table border=\"1\" class=\"dataframe\">\n",
              "  <thead>\n",
              "    <tr style=\"text-align: right;\">\n",
              "      <th></th>\n",
              "      <th>satisfaction_level</th>\n",
              "      <th>last_evaluation</th>\n",
              "      <th>number_project</th>\n",
              "      <th>average_montly_hours</th>\n",
              "      <th>time_spend_company</th>\n",
              "      <th>Work_accident</th>\n",
              "      <th>left</th>\n",
              "      <th>promotion_last_5years</th>\n",
              "      <th>sales</th>\n",
              "      <th>salary</th>\n",
              "    </tr>\n",
              "  </thead>\n",
              "  <tbody>\n",
              "    <tr>\n",
              "      <th>0</th>\n",
              "      <td>0.38</td>\n",
              "      <td>0.53</td>\n",
              "      <td>2</td>\n",
              "      <td>157</td>\n",
              "      <td>3</td>\n",
              "      <td>0</td>\n",
              "      <td>1</td>\n",
              "      <td>0</td>\n",
              "      <td>sales</td>\n",
              "      <td>low</td>\n",
              "    </tr>\n",
              "    <tr>\n",
              "      <th>1</th>\n",
              "      <td>0.80</td>\n",
              "      <td>0.86</td>\n",
              "      <td>5</td>\n",
              "      <td>262</td>\n",
              "      <td>6</td>\n",
              "      <td>0</td>\n",
              "      <td>1</td>\n",
              "      <td>0</td>\n",
              "      <td>sales</td>\n",
              "      <td>medium</td>\n",
              "    </tr>\n",
              "    <tr>\n",
              "      <th>2</th>\n",
              "      <td>0.11</td>\n",
              "      <td>0.88</td>\n",
              "      <td>7</td>\n",
              "      <td>272</td>\n",
              "      <td>4</td>\n",
              "      <td>0</td>\n",
              "      <td>1</td>\n",
              "      <td>0</td>\n",
              "      <td>sales</td>\n",
              "      <td>medium</td>\n",
              "    </tr>\n",
              "    <tr>\n",
              "      <th>3</th>\n",
              "      <td>0.72</td>\n",
              "      <td>0.87</td>\n",
              "      <td>5</td>\n",
              "      <td>223</td>\n",
              "      <td>5</td>\n",
              "      <td>0</td>\n",
              "      <td>1</td>\n",
              "      <td>0</td>\n",
              "      <td>sales</td>\n",
              "      <td>low</td>\n",
              "    </tr>\n",
              "    <tr>\n",
              "      <th>4</th>\n",
              "      <td>0.37</td>\n",
              "      <td>0.52</td>\n",
              "      <td>2</td>\n",
              "      <td>159</td>\n",
              "      <td>3</td>\n",
              "      <td>0</td>\n",
              "      <td>1</td>\n",
              "      <td>0</td>\n",
              "      <td>sales</td>\n",
              "      <td>low</td>\n",
              "    </tr>\n",
              "  </tbody>\n",
              "</table>\n",
              "</div>\n",
              "    <div class=\"colab-df-buttons\">\n",
              "\n",
              "  <div class=\"colab-df-container\">\n",
              "    <button class=\"colab-df-convert\" onclick=\"convertToInteractive('df-84aa9243-383f-4a16-a79d-2a343cacb041')\"\n",
              "            title=\"Convert this dataframe to an interactive table.\"\n",
              "            style=\"display:none;\">\n",
              "\n",
              "  <svg xmlns=\"http://www.w3.org/2000/svg\" height=\"24px\" viewBox=\"0 -960 960 960\">\n",
              "    <path d=\"M120-120v-720h720v720H120Zm60-500h600v-160H180v160Zm220 220h160v-160H400v160Zm0 220h160v-160H400v160ZM180-400h160v-160H180v160Zm440 0h160v-160H620v160ZM180-180h160v-160H180v160Zm440 0h160v-160H620v160Z\"/>\n",
              "  </svg>\n",
              "    </button>\n",
              "\n",
              "  <style>\n",
              "    .colab-df-container {\n",
              "      display:flex;\n",
              "      gap: 12px;\n",
              "    }\n",
              "\n",
              "    .colab-df-convert {\n",
              "      background-color: #E8F0FE;\n",
              "      border: none;\n",
              "      border-radius: 50%;\n",
              "      cursor: pointer;\n",
              "      display: none;\n",
              "      fill: #1967D2;\n",
              "      height: 32px;\n",
              "      padding: 0 0 0 0;\n",
              "      width: 32px;\n",
              "    }\n",
              "\n",
              "    .colab-df-convert:hover {\n",
              "      background-color: #E2EBFA;\n",
              "      box-shadow: 0px 1px 2px rgba(60, 64, 67, 0.3), 0px 1px 3px 1px rgba(60, 64, 67, 0.15);\n",
              "      fill: #174EA6;\n",
              "    }\n",
              "\n",
              "    .colab-df-buttons div {\n",
              "      margin-bottom: 4px;\n",
              "    }\n",
              "\n",
              "    [theme=dark] .colab-df-convert {\n",
              "      background-color: #3B4455;\n",
              "      fill: #D2E3FC;\n",
              "    }\n",
              "\n",
              "    [theme=dark] .colab-df-convert:hover {\n",
              "      background-color: #434B5C;\n",
              "      box-shadow: 0px 1px 3px 1px rgba(0, 0, 0, 0.15);\n",
              "      filter: drop-shadow(0px 1px 2px rgba(0, 0, 0, 0.3));\n",
              "      fill: #FFFFFF;\n",
              "    }\n",
              "  </style>\n",
              "\n",
              "    <script>\n",
              "      const buttonEl =\n",
              "        document.querySelector('#df-84aa9243-383f-4a16-a79d-2a343cacb041 button.colab-df-convert');\n",
              "      buttonEl.style.display =\n",
              "        google.colab.kernel.accessAllowed ? 'block' : 'none';\n",
              "\n",
              "      async function convertToInteractive(key) {\n",
              "        const element = document.querySelector('#df-84aa9243-383f-4a16-a79d-2a343cacb041');\n",
              "        const dataTable =\n",
              "          await google.colab.kernel.invokeFunction('convertToInteractive',\n",
              "                                                    [key], {});\n",
              "        if (!dataTable) return;\n",
              "\n",
              "        const docLinkHtml = 'Like what you see? Visit the ' +\n",
              "          '<a target=\"_blank\" href=https://colab.research.google.com/notebooks/data_table.ipynb>data table notebook</a>'\n",
              "          + ' to learn more about interactive tables.';\n",
              "        element.innerHTML = '';\n",
              "        dataTable['output_type'] = 'display_data';\n",
              "        await google.colab.output.renderOutput(dataTable, element);\n",
              "        const docLink = document.createElement('div');\n",
              "        docLink.innerHTML = docLinkHtml;\n",
              "        element.appendChild(docLink);\n",
              "      }\n",
              "    </script>\n",
              "  </div>\n",
              "\n",
              "\n",
              "<div id=\"df-76633fc6-d510-4f75-878b-5a47b784d0be\">\n",
              "  <button class=\"colab-df-quickchart\" onclick=\"quickchart('df-76633fc6-d510-4f75-878b-5a47b784d0be')\"\n",
              "            title=\"Suggest charts\"\n",
              "            style=\"display:none;\">\n",
              "\n",
              "<svg xmlns=\"http://www.w3.org/2000/svg\" height=\"24px\"viewBox=\"0 0 24 24\"\n",
              "     width=\"24px\">\n",
              "    <g>\n",
              "        <path d=\"M19 3H5c-1.1 0-2 .9-2 2v14c0 1.1.9 2 2 2h14c1.1 0 2-.9 2-2V5c0-1.1-.9-2-2-2zM9 17H7v-7h2v7zm4 0h-2V7h2v10zm4 0h-2v-4h2v4z\"/>\n",
              "    </g>\n",
              "</svg>\n",
              "  </button>\n",
              "\n",
              "<style>\n",
              "  .colab-df-quickchart {\n",
              "      --bg-color: #E8F0FE;\n",
              "      --fill-color: #1967D2;\n",
              "      --hover-bg-color: #E2EBFA;\n",
              "      --hover-fill-color: #174EA6;\n",
              "      --disabled-fill-color: #AAA;\n",
              "      --disabled-bg-color: #DDD;\n",
              "  }\n",
              "\n",
              "  [theme=dark] .colab-df-quickchart {\n",
              "      --bg-color: #3B4455;\n",
              "      --fill-color: #D2E3FC;\n",
              "      --hover-bg-color: #434B5C;\n",
              "      --hover-fill-color: #FFFFFF;\n",
              "      --disabled-bg-color: #3B4455;\n",
              "      --disabled-fill-color: #666;\n",
              "  }\n",
              "\n",
              "  .colab-df-quickchart {\n",
              "    background-color: var(--bg-color);\n",
              "    border: none;\n",
              "    border-radius: 50%;\n",
              "    cursor: pointer;\n",
              "    display: none;\n",
              "    fill: var(--fill-color);\n",
              "    height: 32px;\n",
              "    padding: 0;\n",
              "    width: 32px;\n",
              "  }\n",
              "\n",
              "  .colab-df-quickchart:hover {\n",
              "    background-color: var(--hover-bg-color);\n",
              "    box-shadow: 0 1px 2px rgba(60, 64, 67, 0.3), 0 1px 3px 1px rgba(60, 64, 67, 0.15);\n",
              "    fill: var(--button-hover-fill-color);\n",
              "  }\n",
              "\n",
              "  .colab-df-quickchart-complete:disabled,\n",
              "  .colab-df-quickchart-complete:disabled:hover {\n",
              "    background-color: var(--disabled-bg-color);\n",
              "    fill: var(--disabled-fill-color);\n",
              "    box-shadow: none;\n",
              "  }\n",
              "\n",
              "  .colab-df-spinner {\n",
              "    border: 2px solid var(--fill-color);\n",
              "    border-color: transparent;\n",
              "    border-bottom-color: var(--fill-color);\n",
              "    animation:\n",
              "      spin 1s steps(1) infinite;\n",
              "  }\n",
              "\n",
              "  @keyframes spin {\n",
              "    0% {\n",
              "      border-color: transparent;\n",
              "      border-bottom-color: var(--fill-color);\n",
              "      border-left-color: var(--fill-color);\n",
              "    }\n",
              "    20% {\n",
              "      border-color: transparent;\n",
              "      border-left-color: var(--fill-color);\n",
              "      border-top-color: var(--fill-color);\n",
              "    }\n",
              "    30% {\n",
              "      border-color: transparent;\n",
              "      border-left-color: var(--fill-color);\n",
              "      border-top-color: var(--fill-color);\n",
              "      border-right-color: var(--fill-color);\n",
              "    }\n",
              "    40% {\n",
              "      border-color: transparent;\n",
              "      border-right-color: var(--fill-color);\n",
              "      border-top-color: var(--fill-color);\n",
              "    }\n",
              "    60% {\n",
              "      border-color: transparent;\n",
              "      border-right-color: var(--fill-color);\n",
              "    }\n",
              "    80% {\n",
              "      border-color: transparent;\n",
              "      border-right-color: var(--fill-color);\n",
              "      border-bottom-color: var(--fill-color);\n",
              "    }\n",
              "    90% {\n",
              "      border-color: transparent;\n",
              "      border-bottom-color: var(--fill-color);\n",
              "    }\n",
              "  }\n",
              "</style>\n",
              "\n",
              "  <script>\n",
              "    async function quickchart(key) {\n",
              "      const quickchartButtonEl =\n",
              "        document.querySelector('#' + key + ' button');\n",
              "      quickchartButtonEl.disabled = true;  // To prevent multiple clicks.\n",
              "      quickchartButtonEl.classList.add('colab-df-spinner');\n",
              "      try {\n",
              "        const charts = await google.colab.kernel.invokeFunction(\n",
              "            'suggestCharts', [key], {});\n",
              "      } catch (error) {\n",
              "        console.error('Error during call to suggestCharts:', error);\n",
              "      }\n",
              "      quickchartButtonEl.classList.remove('colab-df-spinner');\n",
              "      quickchartButtonEl.classList.add('colab-df-quickchart-complete');\n",
              "    }\n",
              "    (() => {\n",
              "      let quickchartButtonEl =\n",
              "        document.querySelector('#df-76633fc6-d510-4f75-878b-5a47b784d0be button');\n",
              "      quickchartButtonEl.style.display =\n",
              "        google.colab.kernel.accessAllowed ? 'block' : 'none';\n",
              "    })();\n",
              "  </script>\n",
              "</div>\n",
              "\n",
              "    </div>\n",
              "  </div>\n"
            ],
            "application/vnd.google.colaboratory.intrinsic+json": {
              "type": "dataframe",
              "variable_name": "df",
              "summary": "{\n  \"name\": \"df\",\n  \"rows\": 14999,\n  \"fields\": [\n    {\n      \"column\": \"satisfaction_level\",\n      \"properties\": {\n        \"dtype\": \"number\",\n        \"std\": 0.2486306510611418,\n        \"min\": 0.09,\n        \"max\": 1.0,\n        \"num_unique_values\": 92,\n        \"samples\": [\n          0.83,\n          0.13,\n          0.55\n        ],\n        \"semantic_type\": \"\",\n        \"description\": \"\"\n      }\n    },\n    {\n      \"column\": \"last_evaluation\",\n      \"properties\": {\n        \"dtype\": \"number\",\n        \"std\": 0.17116911062327592,\n        \"min\": 0.36,\n        \"max\": 1.0,\n        \"num_unique_values\": 65,\n        \"samples\": [\n          0.66,\n          0.44,\n          0.53\n        ],\n        \"semantic_type\": \"\",\n        \"description\": \"\"\n      }\n    },\n    {\n      \"column\": \"number_project\",\n      \"properties\": {\n        \"dtype\": \"number\",\n        \"std\": 1,\n        \"min\": 2,\n        \"max\": 7,\n        \"num_unique_values\": 6,\n        \"samples\": [\n          2,\n          5,\n          3\n        ],\n        \"semantic_type\": \"\",\n        \"description\": \"\"\n      }\n    },\n    {\n      \"column\": \"average_montly_hours\",\n      \"properties\": {\n        \"dtype\": \"number\",\n        \"std\": 49,\n        \"min\": 96,\n        \"max\": 310,\n        \"num_unique_values\": 215,\n        \"samples\": [\n          118,\n          112,\n          222\n        ],\n        \"semantic_type\": \"\",\n        \"description\": \"\"\n      }\n    },\n    {\n      \"column\": \"time_spend_company\",\n      \"properties\": {\n        \"dtype\": \"number\",\n        \"std\": 1,\n        \"min\": 2,\n        \"max\": 10,\n        \"num_unique_values\": 8,\n        \"samples\": [\n          6,\n          8,\n          3\n        ],\n        \"semantic_type\": \"\",\n        \"description\": \"\"\n      }\n    },\n    {\n      \"column\": \"Work_accident\",\n      \"properties\": {\n        \"dtype\": \"number\",\n        \"std\": 0,\n        \"min\": 0,\n        \"max\": 1,\n        \"num_unique_values\": 2,\n        \"samples\": [\n          1,\n          0\n        ],\n        \"semantic_type\": \"\",\n        \"description\": \"\"\n      }\n    },\n    {\n      \"column\": \"left\",\n      \"properties\": {\n        \"dtype\": \"number\",\n        \"std\": 0,\n        \"min\": 0,\n        \"max\": 1,\n        \"num_unique_values\": 2,\n        \"samples\": [\n          0,\n          1\n        ],\n        \"semantic_type\": \"\",\n        \"description\": \"\"\n      }\n    },\n    {\n      \"column\": \"promotion_last_5years\",\n      \"properties\": {\n        \"dtype\": \"number\",\n        \"std\": 0,\n        \"min\": 0,\n        \"max\": 1,\n        \"num_unique_values\": 2,\n        \"samples\": [\n          1,\n          0\n        ],\n        \"semantic_type\": \"\",\n        \"description\": \"\"\n      }\n    },\n    {\n      \"column\": \"sales\",\n      \"properties\": {\n        \"dtype\": \"category\",\n        \"num_unique_values\": 10,\n        \"samples\": [\n          \"marketing\",\n          \"accounting\"\n        ],\n        \"semantic_type\": \"\",\n        \"description\": \"\"\n      }\n    },\n    {\n      \"column\": \"salary\",\n      \"properties\": {\n        \"dtype\": \"category\",\n        \"num_unique_values\": 3,\n        \"samples\": [\n          \"low\",\n          \"medium\"\n        ],\n        \"semantic_type\": \"\",\n        \"description\": \"\"\n      }\n    }\n  ]\n}"
            }
          },
          "metadata": {},
          "execution_count": 3
        }
      ]
    },
    {
      "cell_type": "code",
      "source": [
        "df.insert(0, 'S.No', range(1, 1 + len(df)))\n",
        "print(tabulate(df.head(10), headers='keys', tablefmt='grid', showindex=True))"
      ],
      "metadata": {
        "colab": {
          "base_uri": "https://localhost:8080/"
        },
        "id": "E7LCUucC71XZ",
        "outputId": "64fc39a4-7889-42ea-ce70-e841a63be845"
      },
      "execution_count": null,
      "outputs": [
        {
          "output_type": "stream",
          "name": "stdout",
          "text": [
            "+----+--------+----------------------+-------------------+------------------+------------------------+----------------------+-----------------+--------+-------------------------+---------+----------+\n",
            "|    |   S.No |   satisfaction_level |   last_evaluation |   number_project |   average_montly_hours |   time_spend_company |   Work_accident |   left |   promotion_last_5years | sales   | salary   |\n",
            "+====+========+======================+===================+==================+========================+======================+=================+========+=========================+=========+==========+\n",
            "|  0 |      1 |                 0.38 |              0.53 |                2 |                    157 |                    3 |               0 |      1 |                       0 | sales   | low      |\n",
            "+----+--------+----------------------+-------------------+------------------+------------------------+----------------------+-----------------+--------+-------------------------+---------+----------+\n",
            "|  1 |      2 |                 0.8  |              0.86 |                5 |                    262 |                    6 |               0 |      1 |                       0 | sales   | medium   |\n",
            "+----+--------+----------------------+-------------------+------------------+------------------------+----------------------+-----------------+--------+-------------------------+---------+----------+\n",
            "|  2 |      3 |                 0.11 |              0.88 |                7 |                    272 |                    4 |               0 |      1 |                       0 | sales   | medium   |\n",
            "+----+--------+----------------------+-------------------+------------------+------------------------+----------------------+-----------------+--------+-------------------------+---------+----------+\n",
            "|  3 |      4 |                 0.72 |              0.87 |                5 |                    223 |                    5 |               0 |      1 |                       0 | sales   | low      |\n",
            "+----+--------+----------------------+-------------------+------------------+------------------------+----------------------+-----------------+--------+-------------------------+---------+----------+\n",
            "|  4 |      5 |                 0.37 |              0.52 |                2 |                    159 |                    3 |               0 |      1 |                       0 | sales   | low      |\n",
            "+----+--------+----------------------+-------------------+------------------+------------------------+----------------------+-----------------+--------+-------------------------+---------+----------+\n",
            "|  5 |      6 |                 0.41 |              0.5  |                2 |                    153 |                    3 |               0 |      1 |                       0 | sales   | low      |\n",
            "+----+--------+----------------------+-------------------+------------------+------------------------+----------------------+-----------------+--------+-------------------------+---------+----------+\n",
            "|  6 |      7 |                 0.1  |              0.77 |                6 |                    247 |                    4 |               0 |      1 |                       0 | sales   | low      |\n",
            "+----+--------+----------------------+-------------------+------------------+------------------------+----------------------+-----------------+--------+-------------------------+---------+----------+\n",
            "|  7 |      8 |                 0.92 |              0.85 |                5 |                    259 |                    5 |               0 |      1 |                       0 | sales   | low      |\n",
            "+----+--------+----------------------+-------------------+------------------+------------------------+----------------------+-----------------+--------+-------------------------+---------+----------+\n",
            "|  8 |      9 |                 0.89 |              1    |                5 |                    224 |                    5 |               0 |      1 |                       0 | sales   | low      |\n",
            "+----+--------+----------------------+-------------------+------------------+------------------------+----------------------+-----------------+--------+-------------------------+---------+----------+\n",
            "|  9 |     10 |                 0.42 |              0.53 |                2 |                    142 |                    3 |               0 |      1 |                       0 | sales   | low      |\n",
            "+----+--------+----------------------+-------------------+------------------+------------------------+----------------------+-----------------+--------+-------------------------+---------+----------+\n"
          ]
        }
      ]
    },
    {
      "cell_type": "markdown",
      "source": [
        "1.How many employees in each of the department"
      ],
      "metadata": {
        "id": "7DdfCZob8L1q"
      }
    },
    {
      "cell_type": "code",
      "source": [
        "department_employee_count = df.groupby('sales')['S.No'].count().reset_index()\n",
        "department_employee_count = department_employee_count.rename(columns={'S.No': 'num_employees'})\n",
        "department_employee_count = department_employee_count.sort_values('num_employees', ascending=True)\n",
        "print(tabulate(department_employee_count, headers='keys', tablefmt='grid', showindex=True))"
      ],
      "metadata": {
        "colab": {
          "base_uri": "https://localhost:8080/"
        },
        "id": "x81NlXjG78By",
        "outputId": "c565e8d9-b20f-4db8-a87a-e68f729614c5"
      },
      "execution_count": null,
      "outputs": [
        {
          "output_type": "stream",
          "name": "stdout",
          "text": [
            "+----+-------------+-----------------+\n",
            "|    | sales       |   num_employees |\n",
            "+====+=============+=================+\n",
            "|  4 | management  |             630 |\n",
            "+----+-------------+-----------------+\n",
            "|  3 | hr          |             739 |\n",
            "+----+-------------+-----------------+\n",
            "|  2 | accounting  |             767 |\n",
            "+----+-------------+-----------------+\n",
            "|  1 | RandD       |             787 |\n",
            "+----+-------------+-----------------+\n",
            "|  5 | marketing   |             858 |\n",
            "+----+-------------+-----------------+\n",
            "|  6 | product_mng |             902 |\n",
            "+----+-------------+-----------------+\n",
            "|  0 | IT          |            1227 |\n",
            "+----+-------------+-----------------+\n",
            "|  8 | support     |            2229 |\n",
            "+----+-------------+-----------------+\n",
            "|  9 | technical   |            2720 |\n",
            "+----+-------------+-----------------+\n",
            "|  7 | sales       |            4140 |\n",
            "+----+-------------+-----------------+\n"
          ]
        }
      ]
    },
    {
      "cell_type": "markdown",
      "source": [
        "2.Among employees who left, get the department wise, number of employees and rank them."
      ],
      "metadata": {
        "id": "TsQo4YHl85Zh"
      }
    },
    {
      "cell_type": "code",
      "source": [
        "print(\"The table below should show rank from 1 to 10 in ascending order having rank 1 on the top.\")\n",
        "left_employees = df[df['left'] == 1]\n",
        "department_left_employee_count = left_employees.groupby('sales')['S.No'].count().reset_index()\n",
        "department_left_employee_count = department_left_employee_count.rename(columns={'S.No': 'num_employees'})\n",
        "department_left_employee_count['rank'] = department_left_employee_count['num_employees'].rank(ascending=False)\n",
        "department_left_employee_count = department_left_employee_count.sort_index(ascending=True)\n",
        "print(tabulate(department_left_employee_count, headers='keys', tablefmt='grid', showindex=True))"
      ],
      "metadata": {
        "colab": {
          "base_uri": "https://localhost:8080/"
        },
        "id": "_hK-Z-CS8FRh",
        "outputId": "6c04e4c7-98ce-4341-efce-9dc9c0b9f03e"
      },
      "execution_count": null,
      "outputs": [
        {
          "output_type": "stream",
          "name": "stdout",
          "text": [
            "The table below should show rank from 1 to 10 in ascending order having rank 1 on the top.\n",
            "+----+-------------+-----------------+--------+\n",
            "|    | sales       |   num_employees |   rank |\n",
            "+====+=============+=================+========+\n",
            "|  0 | IT          |             273 |      4 |\n",
            "+----+-------------+-----------------+--------+\n",
            "|  1 | RandD       |             121 |      9 |\n",
            "+----+-------------+-----------------+--------+\n",
            "|  2 | accounting  |             204 |      6 |\n",
            "+----+-------------+-----------------+--------+\n",
            "|  3 | hr          |             215 |      5 |\n",
            "+----+-------------+-----------------+--------+\n",
            "|  4 | management  |              91 |     10 |\n",
            "+----+-------------+-----------------+--------+\n",
            "|  5 | marketing   |             203 |      7 |\n",
            "+----+-------------+-----------------+--------+\n",
            "|  6 | product_mng |             198 |      8 |\n",
            "+----+-------------+-----------------+--------+\n",
            "|  7 | sales       |            1014 |      1 |\n",
            "+----+-------------+-----------------+--------+\n",
            "|  8 | support     |             555 |      3 |\n",
            "+----+-------------+-----------------+--------+\n",
            "|  9 | technical   |             697 |      2 |\n",
            "+----+-------------+-----------------+--------+\n"
          ]
        }
      ]
    },
    {
      "cell_type": "markdown",
      "source": [
        "3.Average number of years (time_spend_company) and average number of monthly hours (average_monthly_hours) for the employees left and not left under each department. Sort the value by sales.\n"
      ],
      "metadata": {
        "id": "SPnHJYZo-cka"
      }
    },
    {
      "cell_type": "code",
      "source": [
        "avg_time_spend_company_and_hours = df.groupby(['left', 'sales'])[['time_spend_company', 'average_montly_hours']].mean().reset_index()\n",
        "avg_time_spend_company_and_hours = avg_time_spend_company_and_hours.rename(columns={'time_spend_company': 'avg_time_spend_company', 'average_montly_hours': 'avg_average_monthly_hours'})\n",
        "avg_time_spend_company_and_hours = avg_time_spend_company_and_hours.sort_values(['sales'], ascending=True)\n",
        "avg_time_spend_company_and_hours = avg_time_spend_company_and_hours.sort_index(ascending=True)\n",
        "print(tabulate(avg_time_spend_company_and_hours, headers='keys', tablefmt='grid', showindex=True))"
      ],
      "metadata": {
        "colab": {
          "base_uri": "https://localhost:8080/"
        },
        "id": "AVgfFjdE9HHY",
        "outputId": "2ac07f2e-a243-4e5f-8072-8cee5d45a766"
      },
      "execution_count": null,
      "outputs": [
        {
          "output_type": "stream",
          "name": "stdout",
          "text": [
            "+----+--------+-------------+--------------------------+-----------------------------+\n",
            "|    |   left | sales       |   avg_time_spend_company |   avg_average_monthly_hours |\n",
            "+====+========+=============+==========================+=============================+\n",
            "|  0 |      0 | IT          |                  3.35639 |                     198.887 |\n",
            "+----+--------+-------------+--------------------------+-----------------------------+\n",
            "|  1 |      0 | RandD       |                  3.25225 |                     198.952 |\n",
            "+----+--------+-------------+--------------------------+-----------------------------+\n",
            "|  2 |      0 | accounting  |                  3.42451 |                     199.037 |\n",
            "+----+--------+-------------+--------------------------+-----------------------------+\n",
            "|  3 |      0 | hr          |                  3.19275 |                     199.25  |\n",
            "+----+--------+-------------+--------------------------+-----------------------------+\n",
            "|  4 |      0 | management  |                  4.39518 |                     200.234 |\n",
            "+----+--------+-------------+--------------------------+-----------------------------+\n",
            "|  5 |      0 | marketing   |                  3.48092 |                     198.889 |\n",
            "+----+--------+-------------+--------------------------+-----------------------------+\n",
            "|  6 |      0 | product_mng |                  3.33097 |                     197.766 |\n",
            "+----+--------+-------------+--------------------------+-----------------------------+\n",
            "|  7 |      0 | sales       |                  3.4437  |                     199.572 |\n",
            "+----+--------+-------------+--------------------------+-----------------------------+\n",
            "|  8 |      0 | support     |                  3.21386 |                     199.141 |\n",
            "+----+--------+-------------+--------------------------+-----------------------------+\n",
            "|  9 |      0 | technical   |                  3.22244 |                     198.471 |\n",
            "+----+--------+-------------+--------------------------+-----------------------------+\n",
            "| 10 |      1 | IT          |                  3.86081 |                     213.85  |\n",
            "+----+--------+-------------+--------------------------+-----------------------------+\n",
            "| 11 |      1 | RandD       |                  4       |                     210.975 |\n",
            "+----+--------+-------------+--------------------------+-----------------------------+\n",
            "| 12 |      1 | accounting  |                  3.79412 |                     207.029 |\n",
            "+----+--------+-------------+--------------------------+-----------------------------+\n",
            "| 13 |      1 | hr          |                  3.75349 |                     197.307 |\n",
            "+----+--------+-------------+--------------------------+-----------------------------+\n",
            "| 14 |      1 | management  |                  3.75824 |                     207.264 |\n",
            "+----+--------+-------------+--------------------------+-----------------------------+\n",
            "| 15 |      1 | marketing   |                  3.85714 |                     200.99  |\n",
            "+----+--------+-------------+--------------------------+-----------------------------+\n",
            "| 16 |      1 | product_mng |                  3.9899  |                     207.788 |\n",
            "+----+--------+-------------+--------------------------+-----------------------------+\n",
            "| 17 |      1 | sales       |                  3.81262 |                     205.041 |\n",
            "+----+--------+-------------+--------------------------+-----------------------------+\n",
            "| 18 |      1 | support     |                  3.93333 |                     205.636 |\n",
            "+----+--------+-------------+--------------------------+-----------------------------+\n",
            "| 19 |      1 | technical   |                  3.95983 |                     214.184 |\n",
            "+----+--------+-------------+--------------------------+-----------------------------+\n"
          ]
        }
      ]
    },
    {
      "cell_type": "markdown",
      "source": [
        "4) Under each department, what is the minimum and maximum for both left and not left employees related to time_spend_company and average_monthly_hours. Sort the value by sales."
      ],
      "metadata": {
        "id": "U3oIAboveQ7T"
      }
    },
    {
      "cell_type": "code",
      "source": [
        "avg_time_hours = df.groupby(['sales', 'left']).agg(\n",
        "    avg_time_spend_company=('time_spend_company', 'mean'),\n",
        "    avg_average_monthly_hours=('average_montly_hours', 'mean')\n",
        ").reset_index()\n",
        "heatmap_data = avg_time_hours.pivot(index='sales', columns='left', values=['avg_time_spend_company', 'avg_average_monthly_hours'])\n",
        "\n",
        "heatmap_data_reset = heatmap_data.reset_index()\n",
        "\n",
        "heatmap_data_reset.insert(0, 'Serial No', range(1, len(heatmap_data_reset) + 1))\n",
        "\n",
        "print(\"\\nHeatmap Data for Average Time Spent and Monthly Hours by Department and Left Status\")\n",
        "print(tabulate(heatmap_data_reset, headers='keys', tablefmt='grid', showindex=False))"
      ],
      "metadata": {
        "id": "Bs6aFpHfDYZB",
        "colab": {
          "base_uri": "https://localhost:8080/"
        },
        "outputId": "f61d9f16-7271-47a5-f390-1f4ece027d27"
      },
      "execution_count": null,
      "outputs": [
        {
          "output_type": "stream",
          "name": "stdout",
          "text": [
            "\n",
            "Heatmap Data for Average Time Spent and Monthly Hours by Department and Left Status\n",
            "+---------------------+-----------------+---------------------------------+---------------------------------+------------------------------------+------------------------------------+\n",
            "|   ('Serial No', '') | ('sales', '')   |   ('avg_time_spend_company', 0) |   ('avg_time_spend_company', 1) |   ('avg_average_monthly_hours', 0) |   ('avg_average_monthly_hours', 1) |\n",
            "+=====================+=================+=================================+=================================+====================================+====================================+\n",
            "|                   1 | IT              |                         3.35639 |                         3.86081 |                            198.887 |                            213.85  |\n",
            "+---------------------+-----------------+---------------------------------+---------------------------------+------------------------------------+------------------------------------+\n",
            "|                   2 | RandD           |                         3.25225 |                         4       |                            198.952 |                            210.975 |\n",
            "+---------------------+-----------------+---------------------------------+---------------------------------+------------------------------------+------------------------------------+\n",
            "|                   3 | accounting      |                         3.42451 |                         3.79412 |                            199.037 |                            207.029 |\n",
            "+---------------------+-----------------+---------------------------------+---------------------------------+------------------------------------+------------------------------------+\n",
            "|                   4 | hr              |                         3.19275 |                         3.75349 |                            199.25  |                            197.307 |\n",
            "+---------------------+-----------------+---------------------------------+---------------------------------+------------------------------------+------------------------------------+\n",
            "|                   5 | management      |                         4.39518 |                         3.75824 |                            200.234 |                            207.264 |\n",
            "+---------------------+-----------------+---------------------------------+---------------------------------+------------------------------------+------------------------------------+\n",
            "|                   6 | marketing       |                         3.48092 |                         3.85714 |                            198.889 |                            200.99  |\n",
            "+---------------------+-----------------+---------------------------------+---------------------------------+------------------------------------+------------------------------------+\n",
            "|                   7 | product_mng     |                         3.33097 |                         3.9899  |                            197.766 |                            207.788 |\n",
            "+---------------------+-----------------+---------------------------------+---------------------------------+------------------------------------+------------------------------------+\n",
            "|                   8 | sales           |                         3.4437  |                         3.81262 |                            199.572 |                            205.041 |\n",
            "+---------------------+-----------------+---------------------------------+---------------------------------+------------------------------------+------------------------------------+\n",
            "|                   9 | support         |                         3.21386 |                         3.93333 |                            199.141 |                            205.636 |\n",
            "+---------------------+-----------------+---------------------------------+---------------------------------+------------------------------------+------------------------------------+\n",
            "|                  10 | technical       |                         3.22244 |                         3.95983 |                            198.471 |                            214.184 |\n",
            "+---------------------+-----------------+---------------------------------+---------------------------------+------------------------------------+------------------------------------+\n"
          ]
        }
      ]
    },
    {
      "cell_type": "markdown",
      "source": [
        "5) Under each department, what is the minimum, maximum, average on last evaluation (last_evaluation) and satisfaction level (satisfaction_level) for both left and not left. Sort the value by sales."
      ],
      "metadata": {
        "id": "3BPTs2AJgZEI"
      }
    },
    {
      "cell_type": "code",
      "source": [
        "min_max_avg_evaluation_satisfaction = df.groupby(['sales', 'left']).agg(\n",
        "    min_last_evaluation=('last_evaluation', 'min'),\n",
        "    max_last_evaluation=('last_evaluation', 'max'),\n",
        "    avg_last_evaluation=('last_evaluation', 'mean'),\n",
        "    min_satisfaction_level=('satisfaction_level', 'min'),\n",
        "    max_satisfaction_level=('satisfaction_level', 'max'),\n",
        "    avg_satisfaction_level=('satisfaction_level', 'mean')\n",
        ").reset_index()\n",
        "\n",
        "\n",
        "min_max_avg_evaluation_satisfaction_reset = min_max_avg_evaluation_satisfaction.reset_index()\n",
        "\n",
        "min_max_avg_evaluation_satisfaction_reset.insert(0, 'Serial No', range(1, len(min_max_avg_evaluation_satisfaction_reset) + 1))\n",
        "\n",
        "print(tabulate(min_max_avg_evaluation_satisfaction_reset, headers='keys', tablefmt='grid', showindex=False))\n"
      ],
      "metadata": {
        "colab": {
          "base_uri": "https://localhost:8080/"
        },
        "id": "mpiBrJZXgXhZ",
        "outputId": "b135b709-35c1-4b07-b552-1c8bea40e96f"
      },
      "execution_count": null,
      "outputs": [
        {
          "output_type": "stream",
          "name": "stdout",
          "text": [
            "+-------------+---------+-------------+--------+-----------------------+-----------------------+-----------------------+--------------------------+--------------------------+--------------------------+\n",
            "|   Serial No |   index | sales       |   left |   min_last_evaluation |   max_last_evaluation |   avg_last_evaluation |   min_satisfaction_level |   max_satisfaction_level |   avg_satisfaction_level |\n",
            "+=============+=========+=============+========+=======================+=======================+=======================+==========================+==========================+==========================+\n",
            "|           1 |       0 | IT          |      0 |                  0.37 |                     1 |              0.71305  |                     0.12 |                     1    |                 0.67717  |\n",
            "+-------------+---------+-------------+--------+-----------------------+-----------------------+-----------------------+--------------------------+--------------------------+--------------------------+\n",
            "|           2 |       1 | IT          |      1 |                  0.45 |                     1 |              0.730037 |                     0.09 |                     0.92 |                 0.411868 |\n",
            "+-------------+---------+-------------+--------+-----------------------+-----------------------+-----------------------+--------------------------+--------------------------+--------------------------+\n",
            "|           3 |       2 | RandD       |      0 |                  0.36 |                     1 |              0.706081 |                     0.12 |                     1    |                 0.653799 |\n",
            "+-------------+---------+-------------+--------+-----------------------+-----------------------+-----------------------+--------------------------+--------------------------+--------------------------+\n",
            "|           4 |       3 | RandD       |      1 |                  0.46 |                     1 |              0.745372 |                     0.09 |                     0.92 |                 0.43281  |\n",
            "+-------------+---------+-------------+--------+-----------------------+-----------------------+-----------------------+--------------------------+--------------------------+--------------------------+\n",
            "|           5 |       4 | accounting  |      0 |                  0.36 |                     1 |              0.726128 |                     0.12 |                     1    |                 0.647211 |\n",
            "+-------------+---------+-------------+--------+-----------------------+-----------------------+-----------------------+--------------------------+--------------------------+--------------------------+\n",
            "|           6 |       5 | accounting  |      1 |                  0.45 |                     1 |              0.69451  |                     0.09 |                     0.91 |                 0.402598 |\n",
            "+-------------+---------+-------------+--------+-----------------------+-----------------------+-----------------------+--------------------------+--------------------------+--------------------------+\n",
            "|           7 |       6 | hr          |      0 |                  0.37 |                     1 |              0.720802 |                     0.13 |                     1    |                 0.666679 |\n",
            "+-------------+---------+-------------+--------+-----------------------+-----------------------+-----------------------+--------------------------+--------------------------+--------------------------+\n",
            "|           8 |       7 | hr          |      1 |                  0.45 |                     1 |              0.679721 |                     0.09 |                     0.91 |                 0.433395 |\n",
            "+-------------+---------+-------------+--------+-----------------------+-----------------------+-----------------------+--------------------------+--------------------------+--------------------------+\n",
            "|           9 |       8 | management  |      0 |                  0.37 |                     1 |              0.723451 |                     0.12 |                     1    |                 0.654861 |\n",
            "+-------------+---------+-------------+--------+-----------------------+-----------------------+-----------------------+--------------------------+--------------------------+--------------------------+\n",
            "|          10 |       9 | management  |      1 |                  0.46 |                     1 |              0.727253 |                     0.09 |                     0.9  |                 0.422857 |\n",
            "+-------------+---------+-------------+--------+-----------------------+-----------------------+-----------------------+--------------------------+--------------------------+--------------------------+\n",
            "|          11 |      10 | marketing   |      0 |                  0.36 |                     1 |              0.723282 |                     0.12 |                     1    |                 0.669878 |\n",
            "+-------------+---------+-------------+--------+-----------------------+-----------------------+-----------------------+--------------------------+--------------------------+--------------------------+\n",
            "|          12 |      11 | marketing   |      1 |                  0.45 |                     1 |              0.69202  |                     0.09 |                     0.9  |                 0.453153 |\n",
            "+-------------+---------+-------------+--------+-----------------------+-----------------------+-----------------------+--------------------------+--------------------------+--------------------------+\n",
            "|          13 |      12 | product_mng |      0 |                  0.36 |                     1 |              0.711435 |                     0.13 |                     1    |                 0.658466 |\n",
            "+-------------+---------+-------------+--------+-----------------------+-----------------------+-----------------------+--------------------------+--------------------------+--------------------------+\n",
            "|          14 |      13 | product_mng |      1 |                  0.45 |                     1 |              0.726566 |                     0.09 |                     0.91 |                 0.481566 |\n",
            "+-------------+---------+-------------+--------+-----------------------+-----------------------+-----------------------+--------------------------+--------------------------+--------------------------+\n",
            "|          15 |      14 | sales       |      0 |                  0.36 |                     1 |              0.709223 |                     0.12 |                     1    |                 0.668548 |\n",
            "+-------------+---------+-------------+--------+-----------------------+-----------------------+-----------------------+--------------------------+--------------------------+--------------------------+\n",
            "|          16 |      15 | sales       |      1 |                  0.45 |                     1 |              0.711243 |                     0.09 |                     0.92 |                 0.447663 |\n",
            "+-------------+---------+-------------+--------+-----------------------+-----------------------+-----------------------+--------------------------+--------------------------+--------------------------+\n",
            "|          17 |      16 | support     |      0 |                  0.36 |                     1 |              0.721714 |                     0.12 |                     1    |                 0.673799 |\n",
            "+-------------+---------+-------------+--------+-----------------------+-----------------------+-----------------------+--------------------------+--------------------------+--------------------------+\n",
            "|          18 |      17 | support     |      1 |                  0.45 |                     1 |              0.727315 |                     0.09 |                     0.91 |                 0.450901 |\n",
            "+-------------+---------+-------------+--------+-----------------------+-----------------------+-----------------------+--------------------------+--------------------------+--------------------------+\n",
            "|          19 |      18 | technical   |      0 |                  0.36 |                     1 |              0.716609 |                     0.12 |                     1    |                 0.668319 |\n",
            "+-------------+---------+-------------+--------+-----------------------+-----------------------+-----------------------+--------------------------+--------------------------+--------------------------+\n",
            "|          20 |      19 | technical   |      1 |                  0.45 |                     1 |              0.734132 |                     0.09 |                     0.92 |                 0.432525 |\n",
            "+-------------+---------+-------------+--------+-----------------------+-----------------------+-----------------------+--------------------------+--------------------------+--------------------------+\n"
          ]
        }
      ]
    },
    {
      "cell_type": "markdown",
      "source": [
        "6) Under each department, what is the total count (sum) on work accidents (work_accident) and promotion for the last 5 years (promotion_last_5years) for both left and not left. Sort the value by sales."
      ],
      "metadata": {
        "id": "ooKjf9DXgr3b"
      }
    },
    {
      "cell_type": "code",
      "source": [
        "total_work_accident_promotion = df.groupby(['left', 'sales'])[['Work_accident', 'promotion_last_5years']].sum().reset_index()\n",
        "total_work_accident_promotion = total_work_accident_promotion.rename(columns={'Work_accident': 'count_work_accident', 'promotion_last_5years': 'count_promotion_last_5years'})\n",
        "total_work_accident_promotion = total_work_accident_promotion.sort_values(['sales'], ascending=True)\n",
        "total_work_accident_promotion = total_work_accident_promotion.sort_index(ascending=True)\n",
        "print(tabulate(total_work_accident_promotion, headers='keys', tablefmt='grid', showindex=True))"
      ],
      "metadata": {
        "colab": {
          "base_uri": "https://localhost:8080/"
        },
        "id": "45dzPHmmgixD",
        "outputId": "0fbf3090-36e9-463b-a1de-d5b2d4ddb292"
      },
      "execution_count": null,
      "outputs": [
        {
          "output_type": "stream",
          "name": "stdout",
          "text": [
            "+----+--------+-------------+-----------------------+-------------------------------+\n",
            "|    |   left | sales       |   count_work_accident |   count_promotion_last_5years |\n",
            "+====+========+=============+=======================+===============================+\n",
            "|  0 |      0 | IT          |                   155 |                             0 |\n",
            "+----+--------+-------------+-----------------------+-------------------------------+\n",
            "|  1 |      0 | RandD       |                   124 |                            27 |\n",
            "+----+--------+-------------+-----------------------+-------------------------------+\n",
            "|  2 |      0 | accounting  |                    87 |                            14 |\n",
            "+----+--------+-------------+-----------------------+-------------------------------+\n",
            "|  3 |      0 | hr          |                    82 |                            15 |\n",
            "+----+--------+-------------+-----------------------+-------------------------------+\n",
            "|  4 |      0 | management  |                    98 |                            66 |\n",
            "+----+--------+-------------+-----------------------+-------------------------------+\n",
            "|  5 |      0 | marketing   |                   128 |                            43 |\n",
            "+----+--------+-------------+-----------------------+-------------------------------+\n",
            "|  6 |      0 | product_mng |                   123 |                             0 |\n",
            "+----+--------+-------------+-----------------------+-------------------------------+\n",
            "|  7 |      0 | sales       |                   541 |                            93 |\n",
            "+----+--------+-------------+-----------------------+-------------------------------+\n",
            "|  8 |      0 | support     |                   314 |                            17 |\n",
            "+----+--------+-------------+-----------------------+-------------------------------+\n",
            "|  9 |      0 | technical   |                   348 |                            25 |\n",
            "+----+--------+-------------+-----------------------+-------------------------------+\n",
            "| 10 |      1 | IT          |                     9 |                             3 |\n",
            "+----+--------+-------------+-----------------------+-------------------------------+\n",
            "| 11 |      1 | RandD       |                    10 |                             0 |\n",
            "+----+--------+-------------+-----------------------+-------------------------------+\n",
            "| 12 |      1 | accounting  |                     9 |                             0 |\n",
            "+----+--------+-------------+-----------------------+-------------------------------+\n",
            "| 13 |      1 | hr          |                     7 |                             0 |\n",
            "+----+--------+-------------+-----------------------+-------------------------------+\n",
            "| 14 |      1 | management  |                     5 |                             3 |\n",
            "+----+--------+-------------+-----------------------+-------------------------------+\n",
            "| 15 |      1 | marketing   |                    10 |                             0 |\n",
            "+----+--------+-------------+-----------------------+-------------------------------+\n",
            "| 16 |      1 | product_mng |                     9 |                             0 |\n",
            "+----+--------+-------------+-----------------------+-------------------------------+\n",
            "| 17 |      1 | sales       |                    46 |                             7 |\n",
            "+----+--------+-------------+-----------------------+-------------------------------+\n",
            "| 18 |      1 | support     |                    31 |                             3 |\n",
            "+----+--------+-------------+-----------------------+-------------------------------+\n",
            "| 19 |      1 | technical   |                    33 |                             3 |\n",
            "+----+--------+-------------+-----------------------+-------------------------------+\n"
          ]
        }
      ]
    },
    {
      "cell_type": "markdown",
      "source": [
        "7) Bring the output from question 3-6 above."
      ],
      "metadata": {
        "id": "F_p6BtTBiXYT"
      }
    },
    {
      "cell_type": "code",
      "source": [
        "merged_df = pd.merge(avg_time_spend_company_and_hours, avg_time_hours, on=['left', 'sales'], how='inner')\n",
        "\n",
        "merged_df = pd.merge(merged_df, min_max_avg_evaluation_satisfaction, on=['left', 'sales'], how='inner')\n",
        "\n",
        "merged_df = pd.merge(merged_df, total_work_accident_promotion, on=['left', 'sales'], how='inner')\n",
        "\n",
        "# Rename the columns to match the desired output\n",
        "merged_df = merged_df.rename(columns={\n",
        "    'avg_time_spend_company_x': 'avg_time_spend_company',\n",
        "    'avg_average_monthly_hours_x': 'avg_average_monthly_hours',\n",
        "    'avg_time_spend_company_y': 'min_time_spend_company',\n",
        "    'avg_average_monthly_hours_y': 'min_average_monthly_hours',\n",
        "    'max_last_evaluation': 'max_last_evaluation',\n",
        "    'avg_last_evaluation': 'avg_last_evaluation',\n",
        "    'min_satisfaction_level': 'min_satisfaction_level',\n",
        "    'max_satisfaction_level': 'max_satisfaction_level',\n",
        "    'avg_satisfaction_level': 'avg_satisfaction_level',\n",
        "    'count_work_accident': 'count_work_accident',\n",
        "    'count_promotion_last_5years': 'count_promotion_last_5years'\n",
        "\n",
        "})\n",
        "\n",
        "\n",
        "# Display the merged dataframe\n",
        "print(tabulate(merged_df, headers='keys', tablefmt='grid', showindex=True))"
      ],
      "metadata": {
        "id": "f5r5Yen6go3x",
        "colab": {
          "base_uri": "https://localhost:8080/"
        },
        "outputId": "9d266f0d-d5bb-40d1-9c1e-7de878464066"
      },
      "execution_count": null,
      "outputs": [
        {
          "output_type": "stream",
          "name": "stdout",
          "text": [
            "+----+--------+-------------+--------------------------+-----------------------------+--------------------------+-----------------------------+-----------------------+-----------------------+-----------------------+--------------------------+--------------------------+--------------------------+-----------------------+-------------------------------+\n",
            "|    |   left | sales       |   avg_time_spend_company |   avg_average_monthly_hours |   min_time_spend_company |   min_average_monthly_hours |   min_last_evaluation |   max_last_evaluation |   avg_last_evaluation |   min_satisfaction_level |   max_satisfaction_level |   avg_satisfaction_level |   count_work_accident |   count_promotion_last_5years |\n",
            "+====+========+=============+==========================+=============================+==========================+=============================+=======================+=======================+=======================+==========================+==========================+==========================+=======================+===============================+\n",
            "|  0 |      0 | IT          |                  3.35639 |                     198.887 |                  3.35639 |                     198.887 |                  0.37 |                     1 |              0.71305  |                     0.12 |                     1    |                 0.67717  |                   155 |                             0 |\n",
            "+----+--------+-------------+--------------------------+-----------------------------+--------------------------+-----------------------------+-----------------------+-----------------------+-----------------------+--------------------------+--------------------------+--------------------------+-----------------------+-------------------------------+\n",
            "|  1 |      0 | RandD       |                  3.25225 |                     198.952 |                  3.25225 |                     198.952 |                  0.36 |                     1 |              0.706081 |                     0.12 |                     1    |                 0.653799 |                   124 |                            27 |\n",
            "+----+--------+-------------+--------------------------+-----------------------------+--------------------------+-----------------------------+-----------------------+-----------------------+-----------------------+--------------------------+--------------------------+--------------------------+-----------------------+-------------------------------+\n",
            "|  2 |      0 | accounting  |                  3.42451 |                     199.037 |                  3.42451 |                     199.037 |                  0.36 |                     1 |              0.726128 |                     0.12 |                     1    |                 0.647211 |                    87 |                            14 |\n",
            "+----+--------+-------------+--------------------------+-----------------------------+--------------------------+-----------------------------+-----------------------+-----------------------+-----------------------+--------------------------+--------------------------+--------------------------+-----------------------+-------------------------------+\n",
            "|  3 |      0 | hr          |                  3.19275 |                     199.25  |                  3.19275 |                     199.25  |                  0.37 |                     1 |              0.720802 |                     0.13 |                     1    |                 0.666679 |                    82 |                            15 |\n",
            "+----+--------+-------------+--------------------------+-----------------------------+--------------------------+-----------------------------+-----------------------+-----------------------+-----------------------+--------------------------+--------------------------+--------------------------+-----------------------+-------------------------------+\n",
            "|  4 |      0 | management  |                  4.39518 |                     200.234 |                  4.39518 |                     200.234 |                  0.37 |                     1 |              0.723451 |                     0.12 |                     1    |                 0.654861 |                    98 |                            66 |\n",
            "+----+--------+-------------+--------------------------+-----------------------------+--------------------------+-----------------------------+-----------------------+-----------------------+-----------------------+--------------------------+--------------------------+--------------------------+-----------------------+-------------------------------+\n",
            "|  5 |      0 | marketing   |                  3.48092 |                     198.889 |                  3.48092 |                     198.889 |                  0.36 |                     1 |              0.723282 |                     0.12 |                     1    |                 0.669878 |                   128 |                            43 |\n",
            "+----+--------+-------------+--------------------------+-----------------------------+--------------------------+-----------------------------+-----------------------+-----------------------+-----------------------+--------------------------+--------------------------+--------------------------+-----------------------+-------------------------------+\n",
            "|  6 |      0 | product_mng |                  3.33097 |                     197.766 |                  3.33097 |                     197.766 |                  0.36 |                     1 |              0.711435 |                     0.13 |                     1    |                 0.658466 |                   123 |                             0 |\n",
            "+----+--------+-------------+--------------------------+-----------------------------+--------------------------+-----------------------------+-----------------------+-----------------------+-----------------------+--------------------------+--------------------------+--------------------------+-----------------------+-------------------------------+\n",
            "|  7 |      0 | sales       |                  3.4437  |                     199.572 |                  3.4437  |                     199.572 |                  0.36 |                     1 |              0.709223 |                     0.12 |                     1    |                 0.668548 |                   541 |                            93 |\n",
            "+----+--------+-------------+--------------------------+-----------------------------+--------------------------+-----------------------------+-----------------------+-----------------------+-----------------------+--------------------------+--------------------------+--------------------------+-----------------------+-------------------------------+\n",
            "|  8 |      0 | support     |                  3.21386 |                     199.141 |                  3.21386 |                     199.141 |                  0.36 |                     1 |              0.721714 |                     0.12 |                     1    |                 0.673799 |                   314 |                            17 |\n",
            "+----+--------+-------------+--------------------------+-----------------------------+--------------------------+-----------------------------+-----------------------+-----------------------+-----------------------+--------------------------+--------------------------+--------------------------+-----------------------+-------------------------------+\n",
            "|  9 |      0 | technical   |                  3.22244 |                     198.471 |                  3.22244 |                     198.471 |                  0.36 |                     1 |              0.716609 |                     0.12 |                     1    |                 0.668319 |                   348 |                            25 |\n",
            "+----+--------+-------------+--------------------------+-----------------------------+--------------------------+-----------------------------+-----------------------+-----------------------+-----------------------+--------------------------+--------------------------+--------------------------+-----------------------+-------------------------------+\n",
            "| 10 |      1 | IT          |                  3.86081 |                     213.85  |                  3.86081 |                     213.85  |                  0.45 |                     1 |              0.730037 |                     0.09 |                     0.92 |                 0.411868 |                     9 |                             3 |\n",
            "+----+--------+-------------+--------------------------+-----------------------------+--------------------------+-----------------------------+-----------------------+-----------------------+-----------------------+--------------------------+--------------------------+--------------------------+-----------------------+-------------------------------+\n",
            "| 11 |      1 | RandD       |                  4       |                     210.975 |                  4       |                     210.975 |                  0.46 |                     1 |              0.745372 |                     0.09 |                     0.92 |                 0.43281  |                    10 |                             0 |\n",
            "+----+--------+-------------+--------------------------+-----------------------------+--------------------------+-----------------------------+-----------------------+-----------------------+-----------------------+--------------------------+--------------------------+--------------------------+-----------------------+-------------------------------+\n",
            "| 12 |      1 | accounting  |                  3.79412 |                     207.029 |                  3.79412 |                     207.029 |                  0.45 |                     1 |              0.69451  |                     0.09 |                     0.91 |                 0.402598 |                     9 |                             0 |\n",
            "+----+--------+-------------+--------------------------+-----------------------------+--------------------------+-----------------------------+-----------------------+-----------------------+-----------------------+--------------------------+--------------------------+--------------------------+-----------------------+-------------------------------+\n",
            "| 13 |      1 | hr          |                  3.75349 |                     197.307 |                  3.75349 |                     197.307 |                  0.45 |                     1 |              0.679721 |                     0.09 |                     0.91 |                 0.433395 |                     7 |                             0 |\n",
            "+----+--------+-------------+--------------------------+-----------------------------+--------------------------+-----------------------------+-----------------------+-----------------------+-----------------------+--------------------------+--------------------------+--------------------------+-----------------------+-------------------------------+\n",
            "| 14 |      1 | management  |                  3.75824 |                     207.264 |                  3.75824 |                     207.264 |                  0.46 |                     1 |              0.727253 |                     0.09 |                     0.9  |                 0.422857 |                     5 |                             3 |\n",
            "+----+--------+-------------+--------------------------+-----------------------------+--------------------------+-----------------------------+-----------------------+-----------------------+-----------------------+--------------------------+--------------------------+--------------------------+-----------------------+-------------------------------+\n",
            "| 15 |      1 | marketing   |                  3.85714 |                     200.99  |                  3.85714 |                     200.99  |                  0.45 |                     1 |              0.69202  |                     0.09 |                     0.9  |                 0.453153 |                    10 |                             0 |\n",
            "+----+--------+-------------+--------------------------+-----------------------------+--------------------------+-----------------------------+-----------------------+-----------------------+-----------------------+--------------------------+--------------------------+--------------------------+-----------------------+-------------------------------+\n",
            "| 16 |      1 | product_mng |                  3.9899  |                     207.788 |                  3.9899  |                     207.788 |                  0.45 |                     1 |              0.726566 |                     0.09 |                     0.91 |                 0.481566 |                     9 |                             0 |\n",
            "+----+--------+-------------+--------------------------+-----------------------------+--------------------------+-----------------------------+-----------------------+-----------------------+-----------------------+--------------------------+--------------------------+--------------------------+-----------------------+-------------------------------+\n",
            "| 17 |      1 | sales       |                  3.81262 |                     205.041 |                  3.81262 |                     205.041 |                  0.45 |                     1 |              0.711243 |                     0.09 |                     0.92 |                 0.447663 |                    46 |                             7 |\n",
            "+----+--------+-------------+--------------------------+-----------------------------+--------------------------+-----------------------------+-----------------------+-----------------------+-----------------------+--------------------------+--------------------------+--------------------------+-----------------------+-------------------------------+\n",
            "| 18 |      1 | support     |                  3.93333 |                     205.636 |                  3.93333 |                     205.636 |                  0.45 |                     1 |              0.727315 |                     0.09 |                     0.91 |                 0.450901 |                    31 |                             3 |\n",
            "+----+--------+-------------+--------------------------+-----------------------------+--------------------------+-----------------------------+-----------------------+-----------------------+-----------------------+--------------------------+--------------------------+--------------------------+-----------------------+-------------------------------+\n",
            "| 19 |      1 | technical   |                  3.95983 |                     214.184 |                  3.95983 |                     214.184 |                  0.45 |                     1 |              0.734132 |                     0.09 |                     0.92 |                 0.432525 |                    33 |                             3 |\n",
            "+----+--------+-------------+--------------------------+-----------------------------+--------------------------+-----------------------------+-----------------------+-----------------------+-----------------------+--------------------------+--------------------------+--------------------------+-----------------------+-------------------------------+\n"
          ]
        }
      ]
    },
    {
      "cell_type": "markdown",
      "source": [
        "9) Using output from the question 7 above, plot them as a grouped bar chart"
      ],
      "metadata": {
        "id": "UW5uS1HnjW3T"
      }
    },
    {
      "cell_type": "code",
      "source": [
        "warnings.filterwarnings(\"ignore\", message=\"When grouping with a length-1 list-like, you will need to pass a length-1 tuple to get_group\")\n",
        "plt.figure(figsize=(15, 8))\n",
        "sns.barplot(x='sales', y='avg_time_spend_company', hue='left', data=merged_df)\n",
        "plt.xlabel('Department (sales)')\n",
        "plt.ylabel('Grouped Bar Chart')\n",
        "plt.title('Average Time Spent in Company by Department and Left Status')\n",
        "plt.xticks(rotation=0, ha='right')\n",
        "plt.legend(title='Left')\n",
        "plt.tight_layout()\n",
        "plt.show()"
      ],
      "metadata": {
        "colab": {
          "base_uri": "https://localhost:8080/",
          "height": 607
        },
        "id": "8deun_LPjKsO",
        "outputId": "78b6a394-a45a-4a93-e523-251e75e458f9"
      },
      "execution_count": null,
      "outputs": [
        {
          "output_type": "display_data",
          "data": {
            "text/plain": [
              "<Figure size 1500x800 with 1 Axes>"
            ],
            "image/png": "[encoded data removed]"
          },
          "metadata": {}
        }
      ]
    }
  ]
}