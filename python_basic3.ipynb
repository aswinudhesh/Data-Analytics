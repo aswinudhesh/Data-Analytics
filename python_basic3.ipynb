{
  "nbformat": 4,
  "nbformat_minor": 0,
  "metadata": {
    "colab": {
      "provenance": [],
      "authorship_tag": "ABX9TyN1IXRtDC63OI/G8nuQAz4z",
      "include_colab_link": true
    },
    "kernelspec": {
      "name": "python3",
      "display_name": "Python 3"
    },
    "language_info": {
      "name": "python"
    }
  },
  "cells": [
    {
      "cell_type": "markdown",
      "metadata": {
        "id": "view-in-github",
        "colab_type": "text"
      },
      "source": [
        "<a href=\"https://colab.research.google.com/github/aswinudhesh/pythontutorial/blob/main/python_basic3.ipynb\" target=\"_parent\"><img src=\"https://colab.research.google.com/assets/colab-badge.svg\" alt=\"Open In Colab\"/></a>"
      ]
    },
    {
      "cell_type": "markdown",
      "source": [
        "LOOP CONTROL STATEMENTS\n"
      ],
      "metadata": {
        "id": "k9LPLCdQ0Eqs"
      }
    },
    {
      "cell_type": "markdown",
      "source": [
        "FOR LOOP\n"
      ],
      "metadata": {
        "id": "rI0ZX_-_0b1T"
      }
    },
    {
      "cell_type": "code",
      "execution_count": 1,
      "metadata": {
        "colab": {
          "base_uri": "https://localhost:8080/"
        },
        "id": "hPeCKm9vzZhx",
        "outputId": "23b7222d-0075-4eef-8916-cc0918e29f8c"
      },
      "outputs": [
        {
          "output_type": "stream",
          "name": "stdout",
          "text": [
            "Enter a number :5\n",
            "3125\n"
          ]
        }
      ],
      "source": [
        "n = int(input(\"Enter a number :\"))\n",
        "for i in range (n,n+1):\n",
        "  print (n**i)"
      ]
    },
    {
      "cell_type": "code",
      "source": [
        "a = int(input(\"Enter a number\"))\n",
        "for i in range(a):\n",
        "  print(i,end='')"
      ],
      "metadata": {
        "colab": {
          "base_uri": "https://localhost:8080/"
        },
        "id": "GBEfQYW326VG",
        "outputId": "753cfdbd-b398-48bf-f79a-c2af0f7dc7fe"
      },
      "execution_count": 6,
      "outputs": [
        {
          "output_type": "stream",
          "name": "stdout",
          "text": [
            "Enter a number5\n",
            "01234"
          ]
        }
      ]
    },
    {
      "cell_type": "markdown",
      "source": [
        "WHILE LOOP\n"
      ],
      "metadata": {
        "id": "bRfIY_TA1P0t"
      }
    },
    {
      "cell_type": "code",
      "source": [
        "i = 0\n",
        "while i<10:\n",
        "  print (i)\n",
        "  i += 1"
      ],
      "metadata": {
        "colab": {
          "base_uri": "https://localhost:8080/"
        },
        "id": "lbkQ1Wt61VJQ",
        "outputId": "c3326889-cde6-4ac9-f737-538e82caebc8"
      },
      "execution_count": 4,
      "outputs": [
        {
          "output_type": "stream",
          "name": "stdout",
          "text": [
            "0\n",
            "1\n",
            "2\n",
            "3\n",
            "4\n",
            "5\n",
            "6\n",
            "7\n",
            "8\n",
            "9\n"
          ]
        }
      ]
    },
    {
      "cell_type": "markdown",
      "source": [],
      "metadata": {
        "id": "Jb_qWgTU2T6k"
      }
    }
  ]
}