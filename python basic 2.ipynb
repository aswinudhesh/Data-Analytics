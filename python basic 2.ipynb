{
  "nbformat": 4,
  "nbformat_minor": 0,
  "metadata": {
    "colab": {
      "provenance": [],
      "authorship_tag": "ABX9TyNm1usOSmL1Pb6p9ztFGVaM",
      "include_colab_link": true
    },
    "kernelspec": {
      "name": "python3",
      "display_name": "Python 3"
    },
    "language_info": {
      "name": "python"
    }
  },
  "cells": [
    {
      "cell_type": "markdown",
      "metadata": {
        "id": "view-in-github",
        "colab_type": "text"
      },
      "source": [
        "<a href=\"https://colab.research.google.com/github/aswinudhesh/pythontutorial/blob/main/python%20basic%202.ipynb\" target=\"_parent\"><img src=\"https://colab.research.google.com/assets/colab-badge.svg\" alt=\"Open In Colab\"/></a>"
      ]
    },
    {
      "cell_type": "markdown",
      "source": [
        "CONDITIONAL STATEMENTS"
      ],
      "metadata": {
        "id": "BdotAoiZt6tl"
      }
    },
    {
      "cell_type": "markdown",
      "source": [
        "IF STATEMENT\n"
      ],
      "metadata": {
        "id": "HJ4ZRAukuO7U"
      }
    },
    {
      "cell_type": "code",
      "execution_count": 8,
      "metadata": {
        "colab": {
          "base_uri": "https://localhost:8080/"
        },
        "id": "n2yGZvZXsnyV",
        "outputId": "6f728ee3-ba90-4326-a8b0-a8e1a5f7af8e"
      },
      "outputs": [
        {
          "output_type": "stream",
          "name": "stdout",
          "text": [
            "if block ended\n"
          ]
        }
      ],
      "source": [
        "a = 20\n",
        "b = 10\n",
        "if (a == b):\n",
        " print (\"a and b are equal\")\n",
        "print (\"if block ended\")"
      ]
    },
    {
      "cell_type": "markdown",
      "source": [
        "IF ELSE STATEMENTS\n"
      ],
      "metadata": {
        "id": "GQkNYkQ8t2Cl"
      }
    },
    {
      "cell_type": "code",
      "source": [
        "a = int(input(\"Enter the value of a = \"))\n",
        "b = int(input(\"Enter the value of b = \"))\n",
        "if (a > b):\n",
        "  print (a,\"is greater\")\n",
        "else:\n",
        "  print (b,\"is greater\")\n",
        ""
      ],
      "metadata": {
        "colab": {
          "base_uri": "https://localhost:8080/"
        },
        "id": "NRD-8eA2vUoO",
        "outputId": "810ebabf-29cc-410c-86d6-109166027c7c"
      },
      "execution_count": 1,
      "outputs": [
        {
          "output_type": "stream",
          "name": "stdout",
          "text": [
            "Enter the value of a = 18\n",
            "Enter the value of b = 15\n",
            "18 is greater\n"
          ]
        }
      ]
    },
    {
      "cell_type": "markdown",
      "source": [
        "IF ELIF ELSE STATEMENTS\n"
      ],
      "metadata": {
        "id": "3FhjHHwbwrAe"
      }
    },
    {
      "cell_type": "code",
      "source": [
        "a = int(input(\"Enter the value of a:\"))\n",
        "if a > 0:\n",
        "  print (a,\"is greater\")\n",
        "elif (a == 0):\n",
        "  print (a,\"is zero\")\n",
        "else :\n",
        "  print (a,\"is negative\")"
      ],
      "metadata": {
        "colab": {
          "base_uri": "https://localhost:8080/"
        },
        "id": "nLY-1b7Mw1z0",
        "outputId": "35a2a5f7-3b69-4096-f522-fb39c1d315e9"
      },
      "execution_count": 4,
      "outputs": [
        {
          "output_type": "stream",
          "name": "stdout",
          "text": [
            "Enter the value of a:-10\n",
            "-10 is negative\n"
          ]
        }
      ]
    }
  ]
}