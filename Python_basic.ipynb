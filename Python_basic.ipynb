{
  "nbformat": 4,
  "nbformat_minor": 0,
  "metadata": {
    "colab": {
      "provenance": [],
      "authorship_tag": "ABX9TyMqi9/qkeSEz620o1yMT4W+",
      "include_colab_link": true
    },
    "kernelspec": {
      "name": "python3",
      "display_name": "Python 3"
    },
    "language_info": {
      "name": "python"
    }
  },
  "cells": [
    {
      "cell_type": "markdown",
      "metadata": {
        "id": "view-in-github",
        "colab_type": "text"
      },
      "source": [
        "<a href=\"https://colab.research.google.com/github/aswinudhesh/pythontutorial/blob/main/Python_basic.ipynb\" target=\"_parent\"><img src=\"https://colab.research.google.com/assets/colab-badge.svg\" alt=\"Open In Colab\"/></a>"
      ]
    },
    {
      "cell_type": "markdown",
      "source": [
        "BIGGEST OF TWO NUMBER\n"
      ],
      "metadata": {
        "id": "YiEgGAy4F8f_"
      }
    },
    {
      "cell_type": "code",
      "execution_count": null,
      "metadata": {
        "colab": {
          "base_uri": "https://localhost:8080/"
        },
        "id": "fNixIbzShU7_",
        "outputId": "2f635675-9f81-4e07-9d80-9fbb37c47672"
      },
      "outputs": [
        {
          "output_type": "stream",
          "name": "stdout",
          "text": [
            "Enter the value of x:10\n",
            "Enter the value of y:20\n",
            "Big= 20\n"
          ]
        }
      ],
      "source": [
        "x=int(input(\"Enter the value of x:\"))\n",
        "y=int(input(\"Enter the value of y:\"))\n",
        "if x>y:\n",
        "    print(\"Big=\",x)\n",
        "else:\n",
        "    print(\"Big=\",y)\n",
        "\n"
      ]
    },
    {
      "cell_type": "markdown",
      "source": [
        "ARITHMETIC OPERATION"
      ],
      "metadata": {
        "id": "IAyL1vGxEN0G"
      }
    },
    {
      "cell_type": "code",
      "source": [
        "a = int(input(\"Enter a number a:\"))\n",
        "b = int(input(\"Enter a number b:\"))\n",
        "print(a+b)\n",
        "print(a-b)\n",
        "print(a*b)\n",
        "print(a/b)\n",
        "print(a%b)"
      ],
      "metadata": {
        "colab": {
          "base_uri": "https://localhost:8080/"
        },
        "id": "Km8tcQHxEqpR",
        "outputId": "c8a05cd0-8a57-41bd-9f3b-2d8025490282"
      },
      "execution_count": 5,
      "outputs": [
        {
          "output_type": "stream",
          "name": "stdout",
          "text": [
            "Enter a number a:15\n",
            "Enter a number b:10\n",
            "25\n",
            "5\n",
            "150\n",
            "1.5\n",
            "5\n"
          ]
        }
      ]
    },
    {
      "cell_type": "markdown",
      "source": [],
      "metadata": {
        "id": "-6vbb-OWHvBZ"
      }
    },
    {
      "cell_type": "code",
      "source": [],
      "metadata": {
        "id": "iQD22NzCHxki"
      },
      "execution_count": null,
      "outputs": []
    }
  ]
}