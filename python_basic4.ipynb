{
  "nbformat": 4,
  "nbformat_minor": 0,
  "metadata": {
    "colab": {
      "provenance": [],
      "authorship_tag": "ABX9TyPBTLySNCy7N9d83iR99fqk",
      "include_colab_link": true
    },
    "kernelspec": {
      "name": "python3",
      "display_name": "Python 3"
    },
    "language_info": {
      "name": "python"
    }
  },
  "cells": [
    {
      "cell_type": "markdown",
      "metadata": {
        "id": "view-in-github",
        "colab_type": "text"
      },
      "source": [
        "<a href=\"https://colab.research.google.com/github/aswinudhesh/pythontutorial/blob/main/python_basic4.ipynb\" target=\"_parent\"><img src=\"https://colab.research.google.com/assets/colab-badge.svg\" alt=\"Open In Colab\"/></a>"
      ]
    },
    {
      "cell_type": "markdown",
      "source": [
        "ARRYS\n"
      ],
      "metadata": {
        "id": "YRSJMrh3Q71h"
      }
    },
    {
      "cell_type": "markdown",
      "source": [
        " Creating Python Arrays"
      ],
      "metadata": {
        "id": "EKqKDGRVYKxS"
      }
    },
    {
      "cell_type": "code",
      "source": [
        "import array as arr\n",
        "a = arr.array('d', [1.1, 3.5, 4.5])\n",
        "print(a)"
      ],
      "metadata": {
        "id": "9wmA5HpmYF88"
      },
      "execution_count": null,
      "outputs": []
    },
    {
      "cell_type": "markdown",
      "source": [
        "Accessing Python Array Elements"
      ],
      "metadata": {
        "id": "LD1hmfQnYIya"
      }
    },
    {
      "cell_type": "code",
      "source": [
        "import array as arr\n",
        "a = arr.array('i', [2, 4, 6, 8])\n",
        "\n",
        "print(\"First element:\", a[0])\n",
        "print(\"Second element:\", a[1])\n",
        "print(\"Last element:\", a[-1])"
      ],
      "metadata": {
        "id": "uEDJTZtxYJcX"
      },
      "execution_count": null,
      "outputs": []
    },
    {
      "cell_type": "markdown",
      "source": [
        "Slicing Python Arrays"
      ],
      "metadata": {
        "id": "XEmDgaQfY9Gh"
      }
    },
    {
      "cell_type": "code",
      "source": [
        "import array as arr\n",
        "\n",
        "numbers_list = [2, 5, 62, 5, 42, 52, 48, 5]\n",
        "numbers_array = arr.array('i', numbers_list)\n",
        "\n",
        "print(numbers_array[2:5])\n",
        "print(numbers_array[:-5])\n",
        "print(numbers_array[5:])\n",
        "print(numbers_array[:])"
      ],
      "metadata": {
        "colab": {
          "base_uri": "https://localhost:8080/"
        },
        "id": "S8-biii5Y9od",
        "outputId": "236ac5b0-0c9e-40e0-9e40-6ec6e9b20143"
      },
      "execution_count": null,
      "outputs": [
        {
          "output_type": "stream",
          "name": "stdout",
          "text": [
            "array('i', [62, 5, 42])\n",
            "array('i', [2, 5, 62])\n",
            "array('i', [52, 48, 5])\n",
            "array('i', [2, 5, 62, 5, 42, 52, 48, 5])\n"
          ]
        }
      ]
    },
    {
      "cell_type": "markdown",
      "source": [
        "Changing and Adding Elements"
      ],
      "metadata": {
        "id": "mZQ-7FQ9ZQEG"
      }
    },
    {
      "cell_type": "code",
      "source": [
        "import array as arr\n",
        "\n",
        "numbers = arr.array('i', [1, 2, 3, 5, 7, 10])\n",
        "numbers[0] = 0\n",
        "print(numbers)\n",
        "numbers[2:5] = arr.array('i', [4, 6, 8])\n",
        "print(numbers)\n"
      ],
      "metadata": {
        "id": "qF2f15iJZQs1"
      },
      "execution_count": null,
      "outputs": []
    }
  ]
}